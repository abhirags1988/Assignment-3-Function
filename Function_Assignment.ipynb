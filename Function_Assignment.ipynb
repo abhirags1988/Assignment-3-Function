{
  "nbformat": 4,
  "nbformat_minor": 0,
  "metadata": {
    "colab": {
      "provenance": []
    },
    "kernelspec": {
      "name": "python3",
      "display_name": "Python 3"
    },
    "language_info": {
      "name": "python"
    }
  },
  "cells": [
    {
      "cell_type": "markdown",
      "source": [
        "#Theory Questions:"
      ],
      "metadata": {
        "id": "kjaMGmfDAWS0"
      }
    },
    {
      "cell_type": "markdown",
      "source": [],
      "metadata": {
        "id": "gBVtoYbFCQDs"
      }
    },
    {
      "cell_type": "markdown",
      "source": [
        "###1. What is the difference between a function and a method in Python?\n",
        "\n"
      ],
      "metadata": {
        "id": "k8BVMRCLAT9l"
      }
    },
    {
      "cell_type": "markdown",
      "source": [
        "-> A function is block of code that performs a specific task. We can use it whenever we want by calling its name. It is defined using the def keyword.\n",
        "\n",
        "Ex.\n",
        "\n",
        "def greetings():\n",
        "\n",
        "    print(\"Welcome to our home\") # Function\n",
        "\n",
        "* A method is called by its name, but it is associated to an object(dependent).A method definition always includes 'self' as its first parameter. It is usually defined inside a class.It operates on the data that belongs to that object(via self).\n",
        "\n",
        "Ex.\n",
        "\n",
        "fruits = [\"apple\", \"banana\"]\n",
        "\n",
        "fruits.append(\"mango\")\n",
        "\n",
        "fruits.remove(\"banana\")   # append and remove are methods.\n",
        "\n",
        "print(fruits)\n"
      ],
      "metadata": {
        "id": "jo24kAArA9z9"
      }
    },
    {
      "cell_type": "markdown",
      "source": [
        "###2. Explain the concept of function arguments and parameters in Python.\n",
        "\n"
      ],
      "metadata": {
        "id": "wWiuIH4RLYVl"
      }
    },
    {
      "cell_type": "markdown",
      "source": [
        "-> Arguments are the values that are passed into a function when it is called. A function must be called with the right number of arguments.\n",
        "\n",
        "Ex.\n",
        "\n",
        "greet(\"Abhi\") # \"Abhi\" is an argument.\n",
        "\n",
        "*  Parameters are placeholders or variables defined within a parentheses of a function's definition. They receive value (arguments) when the function is called.\n",
        "\n",
        "Ex.\n",
        "\n",
        "def greet(name): # name is a parameter."
      ],
      "metadata": {
        "id": "JAQpjiKaLc9X"
      }
    },
    {
      "cell_type": "markdown",
      "source": [
        "###3. What are the different ways to define and call a function in Python?\n",
        "\n"
      ],
      "metadata": {
        "id": "BiJMzlVhLgVU"
      }
    },
    {
      "cell_type": "markdown",
      "source": [
        "-> Defining a function: A function is defined using the 'def' keyword, followed by the function name, parentheses(), and a colon :. The code block that constitutes the function's body must be indented.\n",
        "\n",
        "Ex. # function to add two numbers and print result.\n",
        "\n",
        "def add2numbers(a , b):\n",
        "\n",
        "    result = a + b\n",
        "\n",
        "    print(\"The sum is: \",result)\n",
        "\n",
        "*  Calling a function: To execute the code within a defined function, it must be \"called\". This is done by writing the function's name followed by parentheses( ), which can contain arguments if the function requires them.\n",
        "\n",
        "Ex.  # Calling a function with arguments.\n",
        "\n",
        "add2numbers(5 , 3) # Output: The sum is : 8"
      ],
      "metadata": {
        "id": "lhHc8T8iLgsh"
      }
    },
    {
      "cell_type": "markdown",
      "source": [
        "###4. What is the purpose of the 'return' statement in a Python function?"
      ],
      "metadata": {
        "id": "mvI8Fo4qLg6s"
      }
    },
    {
      "cell_type": "markdown",
      "source": [
        "-> The return statement is used in a function to 'send a result back' to the place where the function was called. When return is executed, the function 'stops running' and immediately returns the specified value.\n",
        "\n",
        "Ex.\n",
        "\n",
        "def add(a , b):\n",
        "\n",
        "    return a + b\n",
        "\n",
        "result = add(3 ,5 )\n",
        "\n",
        "print(result)  # Output: 8"
      ],
      "metadata": {
        "id": "SG3oYj27WFXn"
      }
    },
    {
      "cell_type": "markdown",
      "source": [
        "###5. What are iterators in Python and how do they differ from iterables?\n",
        "\n"
      ],
      "metadata": {
        "id": "FA6tHyIbVvAX"
      }
    },
    {
      "cell_type": "markdown",
      "source": [
        "-> Iterators: An iterator is an object that representing a stream of data and returns the data one by one.\n",
        "\n",
        "It is an object that can be iterated upon, meaning that we can traverse through all the values.\n",
        "\n",
        "Technically, in Python, an iterator is an object which implements the iterator protocol, which consist of the methods _iter() and __next_().\n",
        "\n",
        "Ex.\n",
        "\n",
        "colors = [\"red\", \"green\", \"blue\"]\n",
        "\n",
        "color_iterator = iter(colors)\n",
        "\n",
        "for color in color_iterator:\n",
        "\n",
        "    print(color)\n",
        "\n",
        "\n",
        "* Iterator vs Iterable: An iterable is any Python object in which we can use loop over loop using a 'for' loop. Lists, tuples, dictionaries, and sets are all iterable objects. Even strings are iterable objects, and can return an iterator.They are iterable containers which we can get an iterator from.\n",
        "\n",
        "All these objects have a iter() method which is used to get an iterator:\n",
        "\n",
        "Ex.\n",
        "\n",
        "names = [\"Abhi\", \"Priya\", \"Mala\"]\n",
        "\n",
        "it = iter(names)  # This works, so names is iterable\n",
        "\n",
        "print(next(it))   # Output: Abhi\n",
        "\n"
      ],
      "metadata": {
        "id": "IYjllrRLYrGE"
      }
    },
    {
      "cell_type": "markdown",
      "source": [],
      "metadata": {
        "id": "4xebqaTWQr-Q"
      }
    },
    {
      "cell_type": "markdown",
      "source": [
        "###6. Explain the concept of generators in Python and how they are defined.\n",
        "\n"
      ],
      "metadata": {
        "id": "6HB_1NIph_zA"
      }
    },
    {
      "cell_type": "markdown",
      "source": [
        "->  A generator is a function that produces a sequence of values lazily, one at a time, rather than storing all values in memory at once. It allows for efficient iteration over large datasets or infinite sequences without loading the entire dataset into memory. They are defined using a function and the 'yield' keyword.\n",
        "\n",
        "Ex.\n",
        "\n",
        " def id_generator():\n",
        "\n",
        "    counter = 0\n",
        "\n",
        "    while True:\n",
        "\n",
        "        yield counter\n",
        "        \n",
        "        counter += 1\n",
        "\n",
        "id_gen = id_generator() # Create an ID generator\n",
        "\n",
        "for _ in range(5): # Generate and print the first 5 unique IDs\n",
        "\n",
        "    print(next(id_gen))"
      ],
      "metadata": {
        "id": "Q-tisbUKiI5a"
      }
    },
    {
      "cell_type": "markdown",
      "source": [
        "###7. What are the advantages of using generators over regular functions?\n",
        "\n"
      ],
      "metadata": {
        "id": "yEYkTzO4LhJW"
      }
    },
    {
      "cell_type": "markdown",
      "source": [
        "-> Generators offer several benefits over regular function, especially when we work with large datasets, memory efficiency and lazy evaluation.\n",
        "\n",
        "*  A generator returns one result at a time using yield whereas a regular function returns all results at once (ex. as a list)\n",
        "\n",
        "*  A generator does not return its results all at once. Instead, it yields its values one by one, each time it is called. This makes it possible to generate an infinite sequence of values, as long as there is sufficient memory to store them. Generators use 'yield' insted of return and come with several major benefits.\n",
        "\n",
        "Ex.\n",
        "\n",
        "def generate_squares(n):\n",
        "\n",
        "    for i in range(1, n + 1):\n",
        "\n",
        "        yield i * i\n",
        "\n",
        "\n",
        "squares = generate_squares(5) # Call the generator function\n",
        "\n",
        "for square in squares:\n",
        "\n",
        "    print(square) # Output:\n",
        "1\n",
        "4\n",
        "9\n",
        "16\n",
        "25"
      ],
      "metadata": {
        "id": "zs7FqQ8lLhYK"
      }
    },
    {
      "cell_type": "markdown",
      "source": [
        "###8. What is a lambda function in Python and when is it typically used?"
      ],
      "metadata": {
        "id": "ZDwtudoCoRWg"
      }
    },
    {
      "cell_type": "markdown",
      "source": [
        "-> In Python, a lambda function is a small, anonymous function defined using the lambda keyword instead of def. Best uses in places where a function is needed only once or briefly.\n",
        "\n",
        "* When to use lambda functions:\n",
        "\n",
        "Lambda functions are usually used when we need a short function for a short period of time, They are especially useful within higher-order function like map( ), filter( ), reduce( ).\n",
        "\n",
        "Ex.\n",
        "\n",
        "nums = [1, 2, 3, 4, 5, 6]\n",
        "\n",
        "evens = list(filter(lambda x: x % 2 == 0, nums))\n",
        "\n",
        "print(evens)  # Output: [2, 4, 6]"
      ],
      "metadata": {
        "id": "gvvfw6K0odLb"
      }
    },
    {
      "cell_type": "markdown",
      "source": [
        "###9. Explain the purpose and usage of the 'map()' function in Python.\n",
        "\n"
      ],
      "metadata": {
        "id": "W7VMx-WjtzzE"
      }
    },
    {
      "cell_type": "markdown",
      "source": [
        "-> The map() function is used to apply a given function to every item of an iterable, such as a list or tuple, and returns a map object (which is an iterator).\n",
        "\n",
        "* The purpose of map( ) function to transform each element in a sequence using a function, without writing a loop manually.\n",
        "\n",
        "Ex. # using map() to convert a list of strings into a list of integers.\n",
        "\n",
        "\n",
        "s = ['1', '2', '3', '4']\n",
        "\n",
        "res = map(int, s)     # Here, we used the built-in int function to convert each string in the list s into an integer. The map() function takes care of applying int() to every element.\n",
        "\n",
        "print(list(res))\n",
        "\n",
        "Output\n",
        "\n",
        "[1, 2, 3, 4]\n",
        "\n"
      ],
      "metadata": {
        "id": "lSJE_VaNuMD_"
      }
    },
    {
      "cell_type": "markdown",
      "source": [
        "###10. What is the difference between `map()`, `reduce()`, and `filter()` functions in Python?\n",
        "\n",
        "\n",
        "\n"
      ],
      "metadata": {
        "id": "Yns5J3u5xJGj"
      }
    },
    {
      "cell_type": "markdown",
      "source": [
        "-> These three built-in higher-order functions — map(), filter(), and reduce() — are commonly used in functional programming in Python.\n",
        "\n",
        "*  Difference:\n",
        "\n",
        "I. map(): It applies a function to each item and return\tmap object.\tIt is used for transforming items (e.g., squaring nums).\n",
        "\n",
        "II. filter(): It keeps item where function is True and return\tfilter object. It is used for filtering items (e.g., evens only).\n",
        "\n",
        "III. Reduce():\tCombines items into a single value and return single value. It is used for reducing sequence (e.g., sum, product).\n",
        "\n",
        "Ex.\n",
        "\n",
        "a = [1, 2, 3]\n",
        "\n",
        "b = [4, 5, 6]\n",
        "\n",
        "result = list(map(lambda x, y: x + y, a, b))\n",
        "\n",
        "print(result)  # Output: [5, 7, 9]"
      ],
      "metadata": {
        "id": "4MYn3vqJxWJ_"
      }
    },
    {
      "cell_type": "markdown",
      "source": [
        "###11. Using pen & Paper write the internal mechanism for sum operation using reduce function on this given\n",
        "list:[47,11,42,13];\n"
      ],
      "metadata": {
        "id": "BnSS1w66P-WG"
      }
    },
    {
      "cell_type": "markdown",
      "source": [
        "#Practical Questions:"
      ],
      "metadata": {
        "id": "M3QYyxg-t9Uz"
      }
    },
    {
      "cell_type": "markdown",
      "source": [
        "###1. Write a Python function that takes a list of numbers as input and returns the sum of all even numbers in the list.\n",
        "\n"
      ],
      "metadata": {
        "id": "obMTvPQ5tKK3"
      }
    },
    {
      "cell_type": "code",
      "source": [
        "def sum_of_even_numbers(numbers):\n",
        "    even_sum = 0\n",
        "    for num in numbers:\n",
        "        if num % 2 == 0:\n",
        "            even_sum += num\n",
        "    return even_sum\n",
        "\n",
        "my_list = [1, 2, 3, 4, 5, 6, 7, 8]\n",
        "result = sum_of_even_numbers(my_list)\n",
        "print(\"Sum of even numbers:\", result)"
      ],
      "metadata": {
        "colab": {
          "base_uri": "https://localhost:8080/"
        },
        "id": "AT_pGzFktGDY",
        "outputId": "7477399e-35c6-428a-c68e-2bbeb5f19fb6"
      },
      "execution_count": null,
      "outputs": [
        {
          "output_type": "stream",
          "name": "stdout",
          "text": [
            "Sum of even numbers: 20\n"
          ]
        }
      ]
    },
    {
      "cell_type": "markdown",
      "source": [
        "###2. Create a Python function that accepts a string and returns the reverse of that string.\n",
        "\n",
        "\n"
      ],
      "metadata": {
        "id": "5I0GuVRBtFp6"
      }
    },
    {
      "cell_type": "code",
      "source": [
        "def reverse_string(text):\n",
        "    return text[::-1]\n",
        "\n",
        "input_str = \"ABHI\"\n",
        "reversed_str = reverse_string(input_str)\n",
        "print(\"Reversed string:\", reversed_str)"
      ],
      "metadata": {
        "colab": {
          "base_uri": "https://localhost:8080/"
        },
        "id": "wRvfukX91gsn",
        "outputId": "7f28d1e0-4425-4cee-d1b9-eb1ecc827c68"
      },
      "execution_count": null,
      "outputs": [
        {
          "output_type": "stream",
          "name": "stdout",
          "text": [
            "Reversed string: IHBA\n"
          ]
        }
      ]
    },
    {
      "cell_type": "markdown",
      "source": [
        "###3. Implement a Python function that takes a list of integers and returns a new list containing the squares of each number.\n",
        "\n"
      ],
      "metadata": {
        "id": "MY2pG-lW1oD2"
      }
    },
    {
      "cell_type": "code",
      "source": [
        "def square_numbers(numbers):\n",
        "    return [num ** 2 for num in numbers]\n",
        "\n",
        "my_list = [1, 2, 3, 4, 5]\n",
        "squared_list = square_numbers(my_list)\n",
        "print(\"Squared numbers:\", squared_list)"
      ],
      "metadata": {
        "colab": {
          "base_uri": "https://localhost:8080/"
        },
        "id": "aphJa_hj12Uf",
        "outputId": "8239debe-0dad-48fe-a5b7-c25042cabdb4"
      },
      "execution_count": null,
      "outputs": [
        {
          "output_type": "stream",
          "name": "stdout",
          "text": [
            "Squared numbers: [1, 4, 9, 16, 25]\n"
          ]
        }
      ]
    },
    {
      "cell_type": "markdown",
      "source": [
        "###. Write a Python function that checks if a given number is prime or not from 1 to 200.\n"
      ],
      "metadata": {
        "id": "jKlJF5Od2iJT"
      }
    },
    {
      "cell_type": "code",
      "source": [
        "def is_prime(n):\n",
        "    if n < 2:\n",
        "        return False\n",
        "    for i in range(2, int(n**0.5) + 1):\n",
        "        if n % i == 0:\n",
        "            return False\n",
        "    return True\n",
        "for num in range(1, 201):\n",
        "    if is_prime(num):\n",
        "        print(num, \"is a prime number\")"
      ],
      "metadata": {
        "colab": {
          "base_uri": "https://localhost:8080/"
        },
        "id": "eCI-0pYN2pgq",
        "outputId": "4e9b62c2-0e8d-4ac1-827c-87b1fddf5d69"
      },
      "execution_count": null,
      "outputs": [
        {
          "output_type": "stream",
          "name": "stdout",
          "text": [
            "2 is a prime number\n",
            "3 is a prime number\n",
            "5 is a prime number\n",
            "7 is a prime number\n",
            "11 is a prime number\n",
            "13 is a prime number\n",
            "17 is a prime number\n",
            "19 is a prime number\n",
            "23 is a prime number\n",
            "29 is a prime number\n",
            "31 is a prime number\n",
            "37 is a prime number\n",
            "41 is a prime number\n",
            "43 is a prime number\n",
            "47 is a prime number\n",
            "53 is a prime number\n",
            "59 is a prime number\n",
            "61 is a prime number\n",
            "67 is a prime number\n",
            "71 is a prime number\n",
            "73 is a prime number\n",
            "79 is a prime number\n",
            "83 is a prime number\n",
            "89 is a prime number\n",
            "97 is a prime number\n",
            "101 is a prime number\n",
            "103 is a prime number\n",
            "107 is a prime number\n",
            "109 is a prime number\n",
            "113 is a prime number\n",
            "127 is a prime number\n",
            "131 is a prime number\n",
            "137 is a prime number\n",
            "139 is a prime number\n",
            "149 is a prime number\n",
            "151 is a prime number\n",
            "157 is a prime number\n",
            "163 is a prime number\n",
            "167 is a prime number\n",
            "173 is a prime number\n",
            "179 is a prime number\n",
            "181 is a prime number\n",
            "191 is a prime number\n",
            "193 is a prime number\n",
            "197 is a prime number\n",
            "199 is a prime number\n"
          ]
        }
      ]
    },
    {
      "cell_type": "markdown",
      "source": [
        "###5. Create an iterator class in Python that generates the Fibonacci sequence up to a specified number of terms.\n",
        "\n"
      ],
      "metadata": {
        "id": "bWLyoBMAtEZq"
      }
    },
    {
      "cell_type": "code",
      "source": [
        "class FibonacciIterator:\n",
        "    def __init__(self, max_terms):\n",
        "        self.max_terms = max_terms\n",
        "        self.count = 0\n",
        "        self.a = 0\n",
        "        self.b = 1\n",
        "\n",
        "    def __iter__(self):\n",
        "        return self\n",
        "\n",
        "    def __next__(self):\n",
        "        if self.count >= self.max_terms:\n",
        "            raise StopIteration\n",
        "        result = self.a  # store current value to return\n",
        "        self.a, self.b = self.b, self.a + self.b  # update for next term\n",
        "        self.count += 1\n",
        "        return result\n",
        "\n",
        "fib = FibonacciIterator(10)\n",
        "for num in fib:\n",
        "    print(num)\n"
      ],
      "metadata": {
        "colab": {
          "base_uri": "https://localhost:8080/"
        },
        "id": "tqk4oREo_7j8",
        "outputId": "86fa8673-91c9-4ee2-eadb-a3a380ba3c6c"
      },
      "execution_count": null,
      "outputs": [
        {
          "output_type": "stream",
          "name": "stdout",
          "text": [
            "0\n",
            "1\n",
            "1\n",
            "2\n",
            "3\n",
            "5\n",
            "8\n",
            "13\n",
            "21\n",
            "34\n"
          ]
        }
      ]
    },
    {
      "cell_type": "markdown",
      "source": [
        "###6. Write a generator function in Python that yields the powers of 2 up to a given exponent."
      ],
      "metadata": {
        "id": "hUlVQ12NAvW_"
      }
    },
    {
      "cell_type": "code",
      "source": [
        "def powers_of_two(max_exponent):\n",
        "    for i in range(max_exponent + 1):\n",
        "        yield 2 ** i\n",
        "for power in powers_of_two(6):\n",
        "    print(power)"
      ],
      "metadata": {
        "colab": {
          "base_uri": "https://localhost:8080/"
        },
        "id": "e5KMdVmCA8rv",
        "outputId": "650350a9-9f4f-40d5-808e-c5d308d396cd"
      },
      "execution_count": null,
      "outputs": [
        {
          "output_type": "stream",
          "name": "stdout",
          "text": [
            "1\n",
            "2\n",
            "4\n",
            "8\n",
            "16\n",
            "32\n",
            "64\n"
          ]
        }
      ]
    },
    {
      "cell_type": "markdown",
      "source": [
        "###7. Implement a generator function that reads a file line by line and yields each line as a string.\n",
        "\n"
      ],
      "metadata": {
        "id": "qnz7bGTjB9Wm"
      }
    },
    {
      "cell_type": "code",
      "source": [
        "def read_file_line_by_line(file_path):\n",
        "    \"\"\"\n",
        "    Reads a file line by line using a generator and yields each line as a string.\n",
        "\n",
        "    Args:\n",
        "        file_path (str): The path to the file to be read.\n",
        "\n",
        "    Yields:\n",
        "        str: Each line of the file as a string, including the newline character.\n",
        "    \"\"\"\n",
        "    with open(file_path, 'r') as file:\n",
        "        for line in file:\n",
        "            yield line\n",
        "\n",
        "\n",
        "# Create a dummy file for demonstration\n",
        "with open(\"sample.txt\", \"w\") as f:\n",
        "    f.write(\"Hello pwskills\\n\")\n",
        "    f.write(\"I am Abhi\\n\")\n",
        "    f.write(\"This is my third assignment\")\n",
        "\n",
        "# Iterate over the lines using the generator\n",
        "for line in read_file_line_by_line(\"sample.txt\"):\n",
        "    print(line.strip()) # Using .strip() to remove the newline character for cleaner output"
      ],
      "metadata": {
        "colab": {
          "base_uri": "https://localhost:8080/"
        },
        "id": "PhWzrscDGQ4k",
        "outputId": "ecd4bc91-ec8f-491e-bbf7-09b338df3487"
      },
      "execution_count": null,
      "outputs": [
        {
          "output_type": "stream",
          "name": "stdout",
          "text": [
            "Hello pwskills\n",
            "I am Abhi\n",
            "This is my third assignment\n"
          ]
        }
      ]
    },
    {
      "cell_type": "markdown",
      "source": [
        "###8. Use a lambda function in Python to sort a list of tuples based on the second element of each tuple."
      ],
      "metadata": {
        "id": "uQJ5myYBHcl7"
      }
    },
    {
      "cell_type": "code",
      "source": [
        "#list of tuples\n",
        "data = [(2, 2), (1, 4), (3, 1), (5, 2), (2, 3),]\n",
        "\n",
        "# Sort the list using lambda based on the second element\n",
        "sorted_data = sorted(data, key=lambda x: x[1])\n",
        "\n",
        "# Print the sorted list\n",
        "print(sorted_data)"
      ],
      "metadata": {
        "colab": {
          "base_uri": "https://localhost:8080/"
        },
        "id": "mIe9jZSlHjaX",
        "outputId": "01366011-95a6-4d80-9acc-63c8d5acb34f"
      },
      "execution_count": null,
      "outputs": [
        {
          "output_type": "stream",
          "name": "stdout",
          "text": [
            "[(3, 1), (2, 2), (5, 2), (2, 3), (1, 4)]\n"
          ]
        }
      ]
    },
    {
      "cell_type": "markdown",
      "source": [
        "###9. Write a Python program that uses `map()` to convert a list of temperatures from Celsius to Fahrenheit.\n",
        "\n"
      ],
      "metadata": {
        "id": "eVzUvIDYJAKm"
      }
    },
    {
      "cell_type": "code",
      "source": [
        "# List of temperatures in Celsius\n",
        "celsius = [0, 15, 30, 35, 40]\n",
        "\n",
        "# Use map to convert to Fahrenheit\n",
        "fahrenheit = list(map(lambda c: (c * 9/5) + 32, celsius))\n",
        "\n",
        "# Print the result\n",
        "print(\"Celsius:\", celsius)\n",
        "print(\"Fahrenheit:\", fahrenheit)"
      ],
      "metadata": {
        "colab": {
          "base_uri": "https://localhost:8080/"
        },
        "id": "TKOO2xHPJC_J",
        "outputId": "be7646ce-0278-480e-9b8e-3be5fa84f7f6"
      },
      "execution_count": null,
      "outputs": [
        {
          "output_type": "stream",
          "name": "stdout",
          "text": [
            "Celsius: [0, 15, 30, 35, 40]\n",
            "Fahrenheit: [32.0, 59.0, 86.0, 95.0, 104.0]\n"
          ]
        }
      ]
    },
    {
      "cell_type": "markdown",
      "source": [
        "###10. Create a Python program that uses `filter()` to remove all the vowels from a given string.\n"
      ],
      "metadata": {
        "id": "JvQkpK_JJwDH"
      }
    },
    {
      "cell_type": "code",
      "source": [
        "def remove_vowels(input_str):\n",
        "    vowels = 'aeiouAEIOU'\n",
        "    return ''.join(filter(lambda char: char not in vowels, input_str))\n",
        "\n",
        "# Example\n",
        "text = \"Education is the key of success\"\n",
        "result = remove_vowels(text)\n",
        "print(\"Original String:\", text)\n",
        "print(\"String without vowels:\", result)"
      ],
      "metadata": {
        "colab": {
          "base_uri": "https://localhost:8080/"
        },
        "id": "DM2kAHQZDlc6",
        "outputId": "6df35a42-6a1a-4eda-a89e-7e800dd1a8bf"
      },
      "execution_count": null,
      "outputs": [
        {
          "output_type": "stream",
          "name": "stdout",
          "text": [
            "Original String: Education is the key of success\n",
            "String without vowels: dctn s th ky f sccss\n"
          ]
        }
      ]
    },
    {
      "cell_type": "markdown",
      "source": [
        "###11. Imagine an accounting routine used in a book shop. It works on a list with sublists, which look like this:\n",
        "\n",
        "Order number    Book Title and Author      Quantity     Price per item\n",
        "\n",
        "34587           Learning Python, Mark Lutz               4          40.95\n",
        "\n",
        "98762           Programming Python, Mark Lutz            5          56.80  \n",
        "\n",
        "77226           Head First Python, Paul Barry            3          32.95\n",
        "\n",
        "88112           Einfuhrung in Python3, Bernd Klein       3          24.99\n",
        "\n",
        "\n",
        "Write a Python program, which returns a list with 2-tuples. Each tuple consists of the order number and the\n",
        "product of the price per item and the quantity. The product should be increased by 10,- € if the value of the\n",
        "order is smaller than 100,00 €.\n",
        "\n",
        "Write a Python program using lambda and map.\n",
        "\n"
      ],
      "metadata": {
        "id": "qQtfmIN5LMqm"
      }
    },
    {
      "cell_type": "code",
      "source": [
        "orders = [\n",
        "    [34587, \"Learning Python, Mark Lutz\", 4, 40.95],\n",
        "    [98762, \"Programming Python, Mark Lutz\", 5, 56.80],\n",
        "    [77226, \"Head First Python, Paul Barry\", 3, 32.95],\n",
        "    [88112, \"Einführung in Python3, Bernd Klein\", 3, 24.99]\n",
        "]\n",
        "\n",
        "# Use map with lambda to process the orders\n",
        "result = list(map(lambda order: (\n",
        "    order[0],  # Order Number\n",
        "    round(order[2] * order[3] + (10 if order[2] * order[3] < 100 else 0), 2)\n",
        "), orders))\n",
        "\n",
        "# Print the result\n",
        "print(result)"
      ],
      "metadata": {
        "colab": {
          "base_uri": "https://localhost:8080/"
        },
        "id": "C7v54_CBMVS9",
        "outputId": "181177dc-43fd-4ad2-d52b-5ba3ab8b108a"
      },
      "execution_count": null,
      "outputs": [
        {
          "output_type": "stream",
          "name": "stdout",
          "text": [
            "[(34587, 163.8), (98762, 284.0), (77226, 108.85), (88112, 84.97)]\n"
          ]
        }
      ]
    },
    {
      "cell_type": "code",
      "source": [],
      "metadata": {
        "id": "yJqy0KZcJ3rP"
      },
      "execution_count": null,
      "outputs": []
    },
    {
      "cell_type": "markdown",
      "source": [],
      "metadata": {
        "id": "8NO8niNetDoa"
      }
    },
    {
      "cell_type": "code",
      "source": [],
      "metadata": {
        "id": "7qWLl9k_tDLE"
      },
      "execution_count": null,
      "outputs": []
    },
    {
      "cell_type": "markdown",
      "source": [],
      "metadata": {
        "id": "D3qvnVrJtCS0"
      }
    },
    {
      "cell_type": "markdown",
      "source": [],
      "metadata": {
        "id": "L9I7upmAoRIA"
      }
    },
    {
      "cell_type": "markdown",
      "source": [],
      "metadata": {
        "id": "AeovZ5ydoQth"
      }
    },
    {
      "cell_type": "markdown",
      "source": [],
      "metadata": {
        "id": "DsO0fYUjLhib"
      }
    },
    {
      "cell_type": "markdown",
      "source": [],
      "metadata": {
        "id": "1G-RGvGFk6oA"
      }
    },
    {
      "cell_type": "markdown",
      "source": [],
      "metadata": {
        "id": "GzU2Ol_Jk7cF"
      }
    }
  ]
}